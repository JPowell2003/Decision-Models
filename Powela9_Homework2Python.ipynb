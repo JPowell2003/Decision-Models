{
  "cells": [
    {
      "cell_type": "markdown",
      "metadata": {
        "id": "EWIa3QFt3ING"
      },
      "source": [
        "Linear model"
      ]
    },
    {
      "cell_type": "markdown",
      "metadata": {},
      "source": [
        "Install Optimization Package"
      ]
    },
    {
      "cell_type": "code",
      "execution_count": 1,
      "metadata": {
        "colab": {
          "base_uri": "https://localhost:8080/"
        },
        "id": "MXBLAfDG3Lii",
        "outputId": "19e96024-f63e-4f3b-e0ce-f84d885aceb8"
      },
      "outputs": [
        {
          "name": "stdout",
          "output_type": "stream",
          "text": [
            "Collecting pulP\n",
            "  Downloading PuLP-2.9.0-py3-none-any.whl.metadata (5.4 kB)\n",
            "Downloading PuLP-2.9.0-py3-none-any.whl (17.7 MB)\n",
            "\u001b[2K   \u001b[90m━━━━━━━━━━━━━━━━━━━━━━━━━━━━━━━━━━━━━━━━\u001b[0m \u001b[32m17.7/17.7 MB\u001b[0m \u001b[31m19.6 MB/s\u001b[0m eta \u001b[36m0:00:00\u001b[0m\n",
            "\u001b[?25hInstalling collected packages: pulP\n",
            "Successfully installed pulP-2.9.0\n"
          ]
        }
      ],
      "source": [
        "pip install pulP"
      ]
    },
    {
      "cell_type": "code",
      "execution_count": 5,
      "metadata": {
        "id": "aDYBcTrkHnKG"
      },
      "outputs": [],
      "source": [
        "from pulp import *"
      ]
    },
    {
      "cell_type": "code",
      "execution_count": 6,
      "metadata": {
        "id": "bv1g1rDmImDb"
      },
      "outputs": [],
      "source": [
        "import pulp as p"
      ]
    },
    {
      "cell_type": "markdown",
      "metadata": {
        "id": "ERGWChZ8I4B-"
      },
      "source": [
        "**Defind the input parameters using lists and dictionaries **"
      ]
    },
    {
      "cell_type": "code",
      "execution_count": 21,
      "metadata": {
        "id": "8261B-k2JLPj"
      },
      "outputs": [],
      "source": [
        "#Create a list of products\n",
        "Products = ['Generators', 'Alternators']\n",
        "\n",
        "# Create a dictionary for the unit profit\n",
        "unit_profit = {'Generators': 250, 'Alternators': 150 }\n",
        "\n",
        "#Create a dictionary for the number of wiring needed per unit\n",
        "Wiring = {'Generators': 2, 'Alternators': 3}\n",
        "\n",
        "#Create a dictionary for the number of testing needed per unit\n",
        "Testing = {'Generators': 1, 'Alternators': 2}\n",
        "\n",
        "#Define a parameter for the available wiring time\n",
        "Ava_Wiring = 260\n",
        "\n",
        "#Define a parameter for the available testing time\n",
        "Ava_Testing = 140"
      ]
    },
    {
      "cell_type": "markdown",
      "metadata": {
        "id": "riRnLKKcabUf"
      },
      "source": [
        "**Define Decision Variables**"
      ]
    },
    {
      "cell_type": "code",
      "execution_count": 23,
      "metadata": {
        "id": "KMvntVcDcCjf"
      },
      "outputs": [],
      "source": [
        "product_vars= p.LpVariable.dicts(\"Num\", Products, lowBound=0, upBound=None, cat=LpContinuous )"
      ]
    },
    {
      "cell_type": "code",
      "execution_count": 22,
      "metadata": {
        "colab": {
          "base_uri": "https://localhost:8080/"
        },
        "id": "3C_ILjvjd8JA",
        "outputId": "0f84981f-d8cf-4a37-f2ec-a040bb97e9cf"
      },
      "outputs": [
        {
          "name": "stdout",
          "output_type": "stream",
          "text": [
            "{'Generators': Num_Generators, 'Alternators': Num_Alternators}\n"
          ]
        }
      ],
      "source": [
        "print(product_vars)"
      ]
    },
    {
      "cell_type": "markdown",
      "metadata": {
        "id": "nTRDk9-0eY1m"
      },
      "source": [
        "**Create a variable to contain the problem data**"
      ]
    },
    {
      "cell_type": "code",
      "execution_count": 24,
      "metadata": {
        "colab": {
          "base_uri": "https://localhost:8080/"
        },
        "id": "lzM6GOKwehaY",
        "outputId": "990d892e-dae7-494a-a888-b5ddc7fbb4c1"
      },
      "outputs": [
        {
          "name": "stderr",
          "output_type": "stream",
          "text": [
            "/usr/local/lib/python3.10/dist-packages/pulp/pulp.py:1298: UserWarning: Spaces are not permitted in the name. Converted to '_'\n",
            "  warnings.warn(\"Spaces are not permitted in the name. Converted to '_'\")\n"
          ]
        }
      ],
      "source": [
        "Electrotech = p.LpProblem(\"ElectroTech Homework\", p.LpMaximize)"
      ]
    },
    {
      "cell_type": "markdown",
      "metadata": {
        "id": "TPqA1QFAfGNc"
      },
      "source": [
        "**Define the Objective function**"
      ]
    },
    {
      "cell_type": "code",
      "execution_count": 25,
      "metadata": {
        "id": "iXOKpBZVfUYi"
      },
      "outputs": [],
      "source": [
        "Electrotech += lpSum(unit_profit[prd]*product_vars[prd] for prd in Products)"
      ]
    },
    {
      "cell_type": "code",
      "execution_count": 26,
      "metadata": {
        "colab": {
          "base_uri": "https://localhost:8080/"
        },
        "id": "KP_B3Fl4f2_u",
        "outputId": "7defc92b-7105-4f23-fc30-6483f2352bf1"
      },
      "outputs": [
        {
          "name": "stdout",
          "output_type": "stream",
          "text": [
            "ElectroTech_Homework:\n",
            "MAXIMIZE\n",
            "150*Num_Alternators + 250*Num_Generators + 0\n",
            "VARIABLES\n",
            "Num_Alternators Continuous\n",
            "Num_Generators Continuous\n",
            "\n"
          ]
        }
      ],
      "source": [
        "print(Electrotech)"
      ]
    },
    {
      "cell_type": "markdown",
      "metadata": {
        "id": "10yI6UH1f-Kq"
      },
      "source": [
        "**Define the Constraints**"
      ]
    },
    {
      "cell_type": "code",
      "execution_count": 27,
      "metadata": {
        "id": "dh6hrMmBgF-8"
      },
      "outputs": [],
      "source": [
        "#Testing Constraint\n",
        "Electrotech += lpSum(Testing[i]*product_vars[i] for i in Products) <= Ava_Testing\n",
        "\n",
        "#Wiring Constraint\n",
        "Electrotech += lpSum(Wiring[i]*product_vars[i] for i in Products) <= Ava_Wiring"
      ]
    },
    {
      "cell_type": "code",
      "execution_count": 28,
      "metadata": {
        "colab": {
          "base_uri": "https://localhost:8080/"
        },
        "id": "6kh4dCMJiZhE",
        "outputId": "cbda4c91-7f60-4c69-be78-0b094278c1c2"
      },
      "outputs": [
        {
          "name": "stdout",
          "output_type": "stream",
          "text": [
            "ElectroTech_Homework:\n",
            "MAXIMIZE\n",
            "150*Num_Alternators + 250*Num_Generators + 0\n",
            "SUBJECT TO\n",
            "_C1: 2 Num_Alternators + Num_Generators <= 140\n",
            "\n",
            "_C2: 3 Num_Alternators + 2 Num_Generators <= 260\n",
            "\n",
            "VARIABLES\n",
            "Num_Alternators Continuous\n",
            "Num_Generators Continuous\n",
            "\n"
          ]
        }
      ],
      "source": [
        "print(Electrotech)"
      ]
    },
    {
      "cell_type": "markdown",
      "metadata": {
        "id": "CKJMvSFyigUS"
      },
      "source": [
        "**Solve and Print the status of the solution**"
      ]
    },
    {
      "cell_type": "code",
      "execution_count": 29,
      "metadata": {
        "colab": {
          "base_uri": "https://localhost:8080/"
        },
        "id": "JZXNReoPimPm",
        "outputId": "da1bbff7-0345-490d-9d76-d2c4c1b4c363"
      },
      "outputs": [
        {
          "name": "stdout",
          "output_type": "stream",
          "text": [
            "Optimal\n"
          ]
        }
      ],
      "source": [
        "status = Electrotech.solve()\n",
        "print(p.LpStatus[status])"
      ]
    },
    {
      "cell_type": "code",
      "execution_count": 30,
      "metadata": {
        "colab": {
          "base_uri": "https://localhost:8080/"
        },
        "id": "398dYGo8i7pJ",
        "outputId": "0c9e7a66-1f5a-428e-fb40-a5c89c5b9a44"
      },
      "outputs": [
        {
          "name": "stdout",
          "output_type": "stream",
          "text": [
            "Total Profit =$ 32500.0\n"
          ]
        }
      ],
      "source": [
        "print(\"Total Profit =$\", p.value(Electrotech.objective))"
      ]
    },
    {
      "cell_type": "markdown",
      "metadata": {
        "id": "UGZPp3Q9jGqH"
      },
      "source": [
        "**Print the value of the decision variables**"
      ]
    },
    {
      "cell_type": "code",
      "execution_count": 31,
      "metadata": {
        "colab": {
          "base_uri": "https://localhost:8080/"
        },
        "id": "_Rvw5XCEjRYa",
        "outputId": "edd0a43b-7724-485f-e283-048c4c9474cc"
      },
      "outputs": [
        {
          "name": "stdout",
          "output_type": "stream",
          "text": [
            "Num_Alternators = 0.0\n",
            "Num_Generators = 130.0\n"
          ]
        }
      ],
      "source": [
        "for prd_var in Electrotech.variables():\n",
        "  print(prd_var.name, \"=\", prd_var.varValue)"
      ]
    }
  ],
  "metadata": {
    "colab": {
      "provenance": []
    },
    "kernelspec": {
      "display_name": "Python 3",
      "name": "python3"
    },
    "language_info": {
      "name": "python",
      "version": "3.12.5"
    }
  },
  "nbformat": 4,
  "nbformat_minor": 0
}
