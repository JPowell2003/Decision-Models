{
 "cells": [
  {
   "cell_type": "markdown",
   "metadata": {},
   "source": [
    "Install pip and declare"
   ]
  },
  {
   "cell_type": "code",
   "execution_count": 1,
   "metadata": {},
   "outputs": [
    {
     "name": "stdout",
     "output_type": "stream",
     "text": [
      "Requirement already satisfied: Pulp in c:\\users\\alipo\\onedrive\\desktop\\jupyter in vs code\\.venv\\lib\\site-packages (2.9.0)Note: you may need to restart the kernel to use updated packages.\n",
      "\n"
     ]
    }
   ],
   "source": [
    "pip install Pulp"
   ]
  },
  {
   "cell_type": "code",
   "execution_count": 2,
   "metadata": {},
   "outputs": [],
   "source": [
    "from pulp import *\n",
    "import pulp as p"
   ]
  },
  {
   "cell_type": "markdown",
   "metadata": {},
   "source": [
    "Define Input Parameters using lists/dictionaries"
   ]
  },
  {
   "cell_type": "code",
   "execution_count": 3,
   "metadata": {},
   "outputs": [],
   "source": [
    "projects = ['project1', 'project2', 'project3', 'project4', 'project5', 'project6', 'project7']\n",
    "\n",
    "NPV = {'project1': 650,\n",
    "       'project2': 550,\n",
    "       'project3': 600,\n",
    "       'project4': 450,\n",
    "       'project5': 375,\n",
    "       'project6': 525,\n",
    "       'project7': 750}\n",
    "\n",
    "capital_required = {'project1': 250,\n",
    "                    'project2': 175,\n",
    "                    'project3': 300,\n",
    "                    'project4': 150,\n",
    "                    'project5': 145,\n",
    "                    'project6': 160,\n",
    "                    'project7': 325}\n",
    "\n",
    "programmers_required = {'project1': 7,\n",
    "                        'project2': 6,\n",
    "                        'project3': 9,\n",
    "                        'project4': 5,\n",
    "                        'project5': 6,\n",
    "                        'project6': 4,\n",
    "                        'project7': 8}"
   ]
  },
  {
   "cell_type": "markdown",
   "metadata": {},
   "source": [
    "Define Decision Variables"
   ]
  },
  {
   "cell_type": "code",
   "execution_count": 4,
   "metadata": {},
   "outputs": [],
   "source": [
    "project_vars = LpVariable.dicts(\"X\", projects, lowBound=0, upBound=1, cat=LpBinary)"
   ]
  },
  {
   "cell_type": "markdown",
   "metadata": {},
   "source": [
    "Create a variable to contain the problem data"
   ]
  },
  {
   "cell_type": "code",
   "execution_count": 5,
   "metadata": {},
   "outputs": [],
   "source": [
    "game_project_selection = LpProblem(\"Game_Project_Selection\", LpMaximize)"
   ]
  },
  {
   "cell_type": "markdown",
   "metadata": {},
   "source": [
    "Define the objective function"
   ]
  },
  {
   "cell_type": "code",
   "execution_count": 6,
   "metadata": {},
   "outputs": [],
   "source": [
    "game_project_selection += lpSum(NPV[i] * project_vars[i] for i in projects), \"Total NPV\""
   ]
  },
  {
   "cell_type": "code",
   "execution_count": 8,
   "metadata": {},
   "outputs": [
    {
     "data": {
      "text/plain": [
       "Game_Project_Selection:\n",
       "MAXIMIZE\n",
       "650*X_project1 + 550*X_project2 + 600*X_project3 + 450*X_project4 + 375*X_project5 + 525*X_project6 + 750*X_project7 + 0\n",
       "SUBJECT TO\n",
       "Total_Capital: 250 X_project1 + 175 X_project2 + 300 X_project3\n",
       " + 150 X_project4 + 145 X_project5 + 160 X_project6 + 325 X_project7 <= 950\n",
       "\n",
       "Total_Programmers: 7 X_project1 + 6 X_project2 + 9 X_project3 + 5 X_project4\n",
       " + 6 X_project5 + 4 X_project6 + 8 X_project7 <= 20\n",
       "\n",
       "Projects_2_&_6_can't_both_be_selected: X_project2 + X_project6 <= 1\n",
       "\n",
       "VARIABLES\n",
       "0 <= X_project1 <= 1 Integer\n",
       "0 <= X_project2 <= 1 Integer\n",
       "0 <= X_project3 <= 1 Integer\n",
       "0 <= X_project4 <= 1 Integer\n",
       "0 <= X_project5 <= 1 Integer\n",
       "0 <= X_project6 <= 1 Integer\n",
       "0 <= X_project7 <= 1 Integer"
      ]
     },
     "execution_count": 8,
     "metadata": {},
     "output_type": "execute_result"
    }
   ],
   "source": [
    "game_project_selection"
   ]
  },
  {
   "cell_type": "markdown",
   "metadata": {},
   "source": [
    "Define the constraints"
   ]
  },
  {
   "cell_type": "code",
   "execution_count": 7,
   "metadata": {},
   "outputs": [],
   "source": [
    "#Constraint 1\n",
    "game_project_selection += lpSum(capital_required[i] * project_vars[i] for i in projects) <= 950, \"Total Capital\"\n",
    "\n",
    "#Constraint 2\n",
    "game_project_selection += lpSum(programmers_required[i] * project_vars[i] for i in projects) <= 20, \"Total Programmers\"\n",
    "\n",
    "#Constraint 3\n",
    "game_project_selection += project_vars['project2'] + project_vars['project6'] <= 1, \"Exclusivity Between Projects 2 and 6\""
   ]
  },
  {
   "cell_type": "code",
   "execution_count": 9,
   "metadata": {},
   "outputs": [
    {
     "data": {
      "text/plain": [
       "Game_Project_Selection:\n",
       "MAXIMIZE\n",
       "650*X_project1 + 550*X_project2 + 600*X_project3 + 450*X_project4 + 375*X_project5 + 525*X_project6 + 750*X_project7 + 0\n",
       "SUBJECT TO\n",
       "Total_Capital: 250 X_project1 + 175 X_project2 + 300 X_project3\n",
       " + 150 X_project4 + 145 X_project5 + 160 X_project6 + 325 X_project7 <= 950\n",
       "\n",
       "Total_Programmers: 7 X_project1 + 6 X_project2 + 9 X_project3 + 5 X_project4\n",
       " + 6 X_project5 + 4 X_project6 + 8 X_project7 <= 20\n",
       "\n",
       "Projects_2_&_6_can't_both_be_selected: X_project2 + X_project6 <= 1\n",
       "\n",
       "VARIABLES\n",
       "0 <= X_project1 <= 1 Integer\n",
       "0 <= X_project2 <= 1 Integer\n",
       "0 <= X_project3 <= 1 Integer\n",
       "0 <= X_project4 <= 1 Integer\n",
       "0 <= X_project5 <= 1 Integer\n",
       "0 <= X_project6 <= 1 Integer\n",
       "0 <= X_project7 <= 1 Integer"
      ]
     },
     "execution_count": 9,
     "metadata": {},
     "output_type": "execute_result"
    }
   ],
   "source": [
    "game_project_selection"
   ]
  },
  {
   "cell_type": "markdown",
   "metadata": {},
   "source": [
    "Solve and print status"
   ]
  },
  {
   "cell_type": "code",
   "execution_count": 11,
   "metadata": {},
   "outputs": [],
   "source": [
    "status = game_project_selection.solve()"
   ]
  },
  {
   "cell_type": "code",
   "execution_count": 13,
   "metadata": {},
   "outputs": [
    {
     "name": "stdout",
     "output_type": "stream",
     "text": [
      "Optimal\n"
     ]
    }
   ],
   "source": [
    "print(p.LpStatus[status])"
   ]
  },
  {
   "cell_type": "markdown",
   "metadata": {},
   "source": [
    "Print the value of the objective function"
   ]
  },
  {
   "cell_type": "code",
   "execution_count": 14,
   "metadata": {},
   "outputs": [
    {
     "name": "stdout",
     "output_type": "stream",
     "text": [
      "Total NPV = $ 1925.0 thousand\n"
     ]
    }
   ],
   "source": [
    "print(\"Total NPV = $\", value(game_project_selection.objective), \"thousand\")"
   ]
  },
  {
   "cell_type": "markdown",
   "metadata": {},
   "source": [
    "Print the values of the decision variables"
   ]
  },
  {
   "cell_type": "code",
   "execution_count": 15,
   "metadata": {},
   "outputs": [
    {
     "name": "stdout",
     "output_type": "stream",
     "text": [
      "project1: Selected\n",
      "project2: Not Selected\n",
      "project3: Not Selected\n",
      "project4: Not Selected\n",
      "project5: Not Selected\n",
      "project6: Selected\n",
      "project7: Selected\n"
     ]
    }
   ],
   "source": [
    "for i in projects:\n",
    "    print(f\"{i}: {'Selected' if value(project_vars[i]) == 1 else 'Not Selected'}\")"
   ]
  }
 ],
 "metadata": {
  "kernelspec": {
   "display_name": ".venv",
   "language": "python",
   "name": "python3"
  },
  "language_info": {
   "codemirror_mode": {
    "name": "ipython",
    "version": 3
   },
   "file_extension": ".py",
   "mimetype": "text/x-python",
   "name": "python",
   "nbconvert_exporter": "python",
   "pygments_lexer": "ipython3",
   "version": "3.12.5"
  }
 },
 "nbformat": 4,
 "nbformat_minor": 2
}
