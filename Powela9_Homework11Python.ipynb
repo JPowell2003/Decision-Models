{
 "cells": [
  {
   "cell_type": "markdown",
   "metadata": {},
   "source": [
    "Project Management Problem"
   ]
  },
  {
   "cell_type": "markdown",
   "metadata": {},
   "source": [
    "Prerequisites: load libraries"
   ]
  },
  {
   "cell_type": "code",
   "execution_count": 2,
   "metadata": {},
   "outputs": [],
   "source": [
    "import pulp as p\n",
    "import pulp as lpSum"
   ]
  },
  {
   "cell_type": "markdown",
   "metadata": {},
   "source": [
    "Step 1: Define Input Parameters"
   ]
  },
  {
   "cell_type": "code",
   "execution_count": 3,
   "metadata": {},
   "outputs": [],
   "source": [
    "# Create a list of activities\n",
    "Activities = ['A', 'B', 'C', 'D', 'E', 'F', 'G', 'H']\n",
    "\n",
    "# Create a dictionary for the required time at each node\n",
    "Required_Time = {'A': 5,\n",
    "                 'B': 4,\n",
    "                 'C': 5,\n",
    "                 'D': 8,\n",
    "                 'E': 9,\n",
    "                 'F': 6,\n",
    "                 'G': 8,\n",
    "                 'H': 3\n",
    "                }\n",
    "\n",
    "# Create a list for the arcs\n",
    "Arcs = [ ('A', 'B'),\n",
    "         ('B', 'C'),\n",
    "         ('B', 'D'),\n",
    "         ('C', 'E'),\n",
    "         ('C', 'F'),\n",
    "         ('D', 'F'),\n",
    "         ('D', 'G'),\n",
    "         ('E', 'H'),\n",
    "         ('F', 'H'),\n",
    "         ('G', 'H')\n",
    "         ]"
   ]
  },
  {
   "cell_type": "markdown",
   "metadata": {},
   "source": [
    "Step 2: Define Decision Variables"
   ]
  },
  {
   "cell_type": "code",
   "execution_count": 4,
   "metadata": {},
   "outputs": [],
   "source": [
    "Start = p.LpVariable.dicts(\"Start_Time\", Activities, lowBound = 0, upBound = None, cat = p.LpContinuous)"
   ]
  },
  {
   "cell_type": "markdown",
   "metadata": {},
   "source": [
    "Step 3: Create a variable to hold problem data"
   ]
  },
  {
   "cell_type": "code",
   "execution_count": 5,
   "metadata": {},
   "outputs": [],
   "source": [
    "project_mng = p.LpProblem(\"Project_Management_example\", p.LpMinimize)"
   ]
  },
  {
   "cell_type": "markdown",
   "metadata": {},
   "source": [
    "Step 4: Define the Objective Function"
   ]
  },
  {
   "cell_type": "code",
   "execution_count": 6,
   "metadata": {},
   "outputs": [],
   "source": [
    "project_mng += Start['H'] + Required_Time['H']"
   ]
  },
  {
   "cell_type": "code",
   "execution_count": 7,
   "metadata": {},
   "outputs": [
    {
     "data": {
      "text/plain": [
       "Project_Management_example:\n",
       "MINIMIZE\n",
       "1*Start_Time_H + 3\n",
       "VARIABLES\n",
       "Start_Time_H Continuous"
      ]
     },
     "execution_count": 7,
     "metadata": {},
     "output_type": "execute_result"
    }
   ],
   "source": [
    "project_mng"
   ]
  },
  {
   "cell_type": "markdown",
   "metadata": {},
   "source": [
    "Step 5: Define the constraints"
   ]
  },
  {
   "cell_type": "code",
   "execution_count": 8,
   "metadata": {},
   "outputs": [
    {
     "name": "stdout",
     "output_type": "stream",
     "text": [
      "from activity: A\n",
      "to activity: B\n",
      "go to the next arc\n",
      "\n",
      "from activity: B\n",
      "to activity: C\n",
      "go to the next arc\n",
      "\n",
      "from activity: B\n",
      "to activity: D\n",
      "go to the next arc\n",
      "\n",
      "from activity: C\n",
      "to activity: E\n",
      "go to the next arc\n",
      "\n",
      "from activity: C\n",
      "to activity: F\n",
      "go to the next arc\n",
      "\n",
      "from activity: D\n",
      "to activity: F\n",
      "go to the next arc\n",
      "\n",
      "from activity: D\n",
      "to activity: G\n",
      "go to the next arc\n",
      "\n",
      "from activity: E\n",
      "to activity: H\n",
      "go to the next arc\n",
      "\n",
      "from activity: F\n",
      "to activity: H\n",
      "go to the next arc\n",
      "\n",
      "from activity: G\n",
      "to activity: H\n",
      "go to the next arc\n",
      "\n"
     ]
    }
   ],
   "source": [
    "for (x,y) in Arcs:\n",
    "    print(\"from activity:\",x)\n",
    "    print(\"to activity:\",y)\n",
    "    print(\"go to the next arc\")\n",
    "    project_mng += Start[x] + Required_Time[x] <= Start[y]\n",
    "    print(\"\")"
   ]
  },
  {
   "cell_type": "code",
   "execution_count": 9,
   "metadata": {},
   "outputs": [
    {
     "data": {
      "text/plain": [
       "Project_Management_example:\n",
       "MINIMIZE\n",
       "1*Start_Time_H + 3\n",
       "SUBJECT TO\n",
       "_C1: Start_Time_A - Start_Time_B <= -5\n",
       "\n",
       "_C2: Start_Time_B - Start_Time_C <= -4\n",
       "\n",
       "_C3: Start_Time_B - Start_Time_D <= -4\n",
       "\n",
       "_C4: Start_Time_C - Start_Time_E <= -5\n",
       "\n",
       "_C5: Start_Time_C - Start_Time_F <= -5\n",
       "\n",
       "_C6: Start_Time_D - Start_Time_F <= -8\n",
       "\n",
       "_C7: Start_Time_D - Start_Time_G <= -8\n",
       "\n",
       "_C8: Start_Time_E - Start_Time_H <= -9\n",
       "\n",
       "_C9: Start_Time_F - Start_Time_H <= -6\n",
       "\n",
       "_C10: Start_Time_G - Start_Time_H <= -8\n",
       "\n",
       "VARIABLES\n",
       "Start_Time_A Continuous\n",
       "Start_Time_B Continuous\n",
       "Start_Time_C Continuous\n",
       "Start_Time_D Continuous\n",
       "Start_Time_E Continuous\n",
       "Start_Time_F Continuous\n",
       "Start_Time_G Continuous\n",
       "Start_Time_H Continuous"
      ]
     },
     "execution_count": 9,
     "metadata": {},
     "output_type": "execute_result"
    }
   ],
   "source": [
    "project_mng"
   ]
  },
  {
   "cell_type": "markdown",
   "metadata": {},
   "source": [
    "Step 6: Solve and print status"
   ]
  },
  {
   "cell_type": "code",
   "execution_count": 10,
   "metadata": {},
   "outputs": [
    {
     "name": "stdout",
     "output_type": "stream",
     "text": [
      "Optimal\n"
     ]
    }
   ],
   "source": [
    "status = project_mng.solve()\n",
    "print(p.LpStatus[status])"
   ]
  },
  {
   "cell_type": "markdown",
   "metadata": {},
   "source": [
    "Step 7: Print the objective function value"
   ]
  },
  {
   "cell_type": "code",
   "execution_count": 11,
   "metadata": {},
   "outputs": [
    {
     "name": "stdout",
     "output_type": "stream",
     "text": [
      "Finish Time = 28.0\n"
     ]
    }
   ],
   "source": [
    "print(\"Finish Time =\", p.value(project_mng.objective))"
   ]
  },
  {
   "cell_type": "markdown",
   "metadata": {},
   "source": [
    "Step 8: Print the values of the decision variables"
   ]
  },
  {
   "cell_type": "code",
   "execution_count": 12,
   "metadata": {},
   "outputs": [
    {
     "name": "stdout",
     "output_type": "stream",
     "text": [
      "Start_Time_A = 0.0\n",
      "Start_Time_B = 5.0\n",
      "Start_Time_C = 9.0\n",
      "Start_Time_D = 9.0\n",
      "Start_Time_E = 16.0\n",
      "Start_Time_F = 19.0\n",
      "Start_Time_G = 17.0\n",
      "Start_Time_H = 25.0\n"
     ]
    }
   ],
   "source": [
    "for vr in project_mng.variables():\n",
    "  print(vr.name, \"=\", vr.varValue)"
   ]
  }
 ],
 "metadata": {
  "kernelspec": {
   "display_name": ".venv",
   "language": "python",
   "name": "python3"
  },
  "language_info": {
   "codemirror_mode": {
    "name": "ipython",
    "version": 3
   },
   "file_extension": ".py",
   "mimetype": "text/x-python",
   "name": "python",
   "nbconvert_exporter": "python",
   "pygments_lexer": "ipython3",
   "version": "3.12.5"
  }
 },
 "nbformat": 4,
 "nbformat_minor": 2
}
