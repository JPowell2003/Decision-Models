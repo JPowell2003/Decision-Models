{
 "cells": [
  {
   "cell_type": "markdown",
   "metadata": {},
   "source": [
    "Make or Buy Problem"
   ]
  },
  {
   "cell_type": "markdown",
   "metadata": {},
   "source": [
    "Install Optimization package"
   ]
  },
  {
   "cell_type": "code",
   "execution_count": 3,
   "metadata": {},
   "outputs": [
    {
     "name": "stdout",
     "output_type": "stream",
     "text": [
      "Requirement already satisfied: PulP in c:\\users\\alipo\\onedrive\\desktop\\jupyter in vs code\\.venv\\lib\\site-packages (2.9.0)\n",
      "Note: you may need to restart the kernel to use updated packages.\n"
     ]
    }
   ],
   "source": [
    "pip install PulP"
   ]
  },
  {
   "cell_type": "code",
   "execution_count": 4,
   "metadata": {},
   "outputs": [],
   "source": [
    "from pulp import * \n",
    "import pulp as p"
   ]
  },
  {
   "cell_type": "markdown",
   "metadata": {},
   "source": [
    "Input values"
   ]
  },
  {
   "cell_type": "code",
   "execution_count": 5,
   "metadata": {},
   "outputs": [],
   "source": [
    "#Create a list of lawn trimmers\n",
    "Models = ['Electric', 'Gas']\n",
    "\n",
    "# Create a dictionary for the unit cost to make\n",
    "unit_make = {'Electric':55, 'Gas':85}\n",
    "\n",
    "# Create a dictionary for the unit cost to buy\n",
    "unit_buy = {'Electric':67, 'Gas':95}\n",
    "\n",
    "# Create a dictionary for Production\n",
    "production = {'Electric':0.20, 'Gas':0.40}\n",
    "\n",
    "# Create a dictionary for Assembly\n",
    "assembly = {'Electric':0.30, 'Gas':0.50}\n",
    "\n",
    "# Create a dictionary for Packaging\n",
    "packaging = {'Electric':0.10, 'Gas':0.10}\n",
    "\n",
    "# Create a dictionary for the requested quantity\n",
    "number_ordered = {'Electric':30000, 'Gas':15000}\n",
    "\n",
    "# Define a parameter for the available labor production\n",
    "Ava_production = 10000\n",
    "\n",
    "# Define a parameter for the available labor assembly\n",
    "Ava_assembly = 15000\n",
    "\n",
    "# Define a parameter for the available labor packaging\n",
    "Ava_packaging = 5000"
   ]
  },
  {
   "cell_type": "markdown",
   "metadata": {},
   "source": [
    "Define decision variables"
   ]
  },
  {
   "cell_type": "code",
   "execution_count": 6,
   "metadata": {},
   "outputs": [],
   "source": [
    "Make_vars = LpVariable.dicts(\"Make\", Models, lowBound = 0, upBound = None, cat = LpContinuous)\n",
    "Buy_vars = LpVariable.dicts(\"Buy\", Models, lowBound = 0, upBound = None, cat = LpContinuous)"
   ]
  },
  {
   "cell_type": "markdown",
   "metadata": {},
   "source": [
    "Create a variable to hold problem data"
   ]
  },
  {
   "cell_type": "code",
   "execution_count": 7,
   "metadata": {},
   "outputs": [],
   "source": [
    "Make_Buy = p.LpProblem(\"Weedwacker_company\", p.LpMinimize)"
   ]
  },
  {
   "cell_type": "markdown",
   "metadata": {},
   "source": [
    "Define objective function"
   ]
  },
  {
   "cell_type": "code",
   "execution_count": 8,
   "metadata": {},
   "outputs": [],
   "source": [
    "Make_Buy += lpSum(Make_vars[i]*unit_make[i] for i in Models) + lpSum(Buy_vars[i]*unit_buy[i] for i in Models) "
   ]
  },
  {
   "cell_type": "markdown",
   "metadata": {},
   "source": [
    "Define the constraints"
   ]
  },
  {
   "cell_type": "code",
   "execution_count": 9,
   "metadata": {},
   "outputs": [],
   "source": [
    "# Production Constraint\n",
    "Make_Buy += lpSum(production[model]*Make_vars[model] for model in Models) <= Ava_production\n",
    "\n",
    "# Assembly Constraint\n",
    "Make_Buy += lpSum(assembly[model]*Make_vars[model] for model in Models) <= Ava_assembly\n",
    "\n",
    "# Assembly Constraint\n",
    "Make_Buy += lpSum(packaging[model]*Make_vars[model] for model in Models) <= Ava_packaging\n",
    "\n",
    "# Demand constraint\n",
    "for model in Models:\n",
    "    Make_Buy += Make_vars[model] + Buy_vars[model] == number_ordered[model]"
   ]
  },
  {
   "cell_type": "code",
   "execution_count": 10,
   "metadata": {},
   "outputs": [
    {
     "data": {
      "text/plain": [
       "Weedwacker_company:\n",
       "MINIMIZE\n",
       "67*Buy_Electric + 95*Buy_Gas + 55*Make_Electric + 85*Make_Gas + 0\n",
       "SUBJECT TO\n",
       "_C1: 0.2 Make_Electric + 0.4 Make_Gas <= 10000\n",
       "\n",
       "_C2: 0.3 Make_Electric + 0.5 Make_Gas <= 15000\n",
       "\n",
       "_C3: 0.1 Make_Electric + 0.1 Make_Gas <= 5000\n",
       "\n",
       "_C4: Buy_Electric + Make_Electric = 30000\n",
       "\n",
       "_C5: Buy_Gas + Make_Gas = 15000\n",
       "\n",
       "VARIABLES\n",
       "Buy_Electric Continuous\n",
       "Buy_Gas Continuous\n",
       "Make_Electric Continuous\n",
       "Make_Gas Continuous"
      ]
     },
     "execution_count": 10,
     "metadata": {},
     "output_type": "execute_result"
    }
   ],
   "source": [
    "Make_Buy"
   ]
  },
  {
   "cell_type": "code",
   "execution_count": 11,
   "metadata": {},
   "outputs": [
    {
     "name": "stdout",
     "output_type": "stream",
     "text": [
      "Optimal\n"
     ]
    }
   ],
   "source": [
    "status = Make_Buy.solve()\n",
    "print(p.LpStatus[status])"
   ]
  },
  {
   "cell_type": "code",
   "execution_count": 12,
   "metadata": {},
   "outputs": [
    {
     "name": "stdout",
     "output_type": "stream",
     "text": [
      "Total cost = $ 2975000.0\n"
     ]
    }
   ],
   "source": [
    "print(\"Total cost = $\", p.value(Make_Buy.objective))"
   ]
  },
  {
   "cell_type": "code",
   "execution_count": 13,
   "metadata": {},
   "outputs": [
    {
     "name": "stdout",
     "output_type": "stream",
     "text": [
      "Buy_Electric = 0.0\n",
      "Buy_Gas = 5000.0\n",
      "Make_Electric = 30000.0\n",
      "Make_Gas = 10000.0\n"
     ]
    }
   ],
   "source": [
    "for variable in Make_Buy.variables():\n",
    "    print(variable.name, \"=\", variable.varValue)"
   ]
  }
 ],
 "metadata": {
  "kernelspec": {
   "display_name": ".venv",
   "language": "python",
   "name": "python3"
  },
  "language_info": {
   "codemirror_mode": {
    "name": "ipython",
    "version": 3
   },
   "file_extension": ".py",
   "mimetype": "text/x-python",
   "name": "python",
   "nbconvert_exporter": "python",
   "pygments_lexer": "ipython3",
   "version": "3.12.5"
  }
 },
 "nbformat": 4,
 "nbformat_minor": 2
}
