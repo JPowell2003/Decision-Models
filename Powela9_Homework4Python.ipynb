{
 "cells": [
  {
   "cell_type": "markdown",
   "metadata": {},
   "source": [
    "Prerequisites for Problem"
   ]
  },
  {
   "cell_type": "code",
   "execution_count": 2,
   "metadata": {},
   "outputs": [
    {
     "name": "stdout",
     "output_type": "stream",
     "text": [
      "Requirement already satisfied: Pulp in c:\\users\\alipo\\onedrive\\desktop\\jupyter in vs code\\.venv\\lib\\site-packages (2.9.0)\n",
      "Note: you may need to restart the kernel to use updated packages.\n"
     ]
    }
   ],
   "source": [
    "pip install Pulp"
   ]
  },
  {
   "cell_type": "code",
   "execution_count": 3,
   "metadata": {},
   "outputs": [],
   "source": [
    "from pulp import *\n",
    "import pulp as p"
   ]
  },
  {
   "cell_type": "markdown",
   "metadata": {},
   "source": [
    "Define Input Parameters"
   ]
  },
  {
   "cell_type": "code",
   "execution_count": 5,
   "metadata": {},
   "outputs": [],
   "source": [
    "# Create a list of investments\n",
    "investments = ['Bonds', 'Mortgages', 'Car loans', 'Personal loans']\n",
    "\n",
    "#Create a dictionary to save the rate of return for the investments\n",
    "rate_return = {'Bonds': 0.10,\n",
    "               'Mortgages':0.085,\n",
    "               'Car loans':0.095,\n",
    "               'Personal loans': 0.125}\n",
    "\n",
    "# Define a parameter for the available amount of money\n",
    "total_amount= 650000"
   ]
  },
  {
   "cell_type": "markdown",
   "metadata": {},
   "source": [
    "Define Decision Variables"
   ]
  },
  {
   "cell_type": "code",
   "execution_count": 6,
   "metadata": {},
   "outputs": [
    {
     "data": {
      "text/plain": [
       "{'Bonds': X_Bonds,\n",
       " 'Mortgages': X_Mortgages,\n",
       " 'Car loans': X_Car_loans,\n",
       " 'Personal loans': X_Personal_loans}"
      ]
     },
     "execution_count": 6,
     "metadata": {},
     "output_type": "execute_result"
    }
   ],
   "source": [
    "amount_vars= p.LpVariable.dicts(\"X\", investments, lowBound= 0, upBound= None, cat=p.LpContinuous)\n",
    "amount_vars"
   ]
  },
  {
   "cell_type": "markdown",
   "metadata": {},
   "source": [
    "Create a variable that will contain the problem data"
   ]
  },
  {
   "cell_type": "code",
   "execution_count": 8,
   "metadata": {},
   "outputs": [
    {
     "data": {
      "text/plain": [
       "Investment_Problem:\n",
       "MAXIMIZE\n",
       "None\n",
       "VARIABLES"
      ]
     },
     "execution_count": 8,
     "metadata": {},
     "output_type": "execute_result"
    }
   ],
   "source": [
    "investmentProblem = p.LpProblem(\"Investment_Problem\", p.LpMaximize)\n",
    "investmentProblem"
   ]
  },
  {
   "cell_type": "markdown",
   "metadata": {},
   "source": [
    "Define the objective function"
   ]
  },
  {
   "cell_type": "code",
   "execution_count": 10,
   "metadata": {},
   "outputs": [
    {
     "name": "stderr",
     "output_type": "stream",
     "text": [
      "c:\\Users\\alipo\\OneDrive\\Desktop\\Jupyter in VS Code\\.venv\\Lib\\site-packages\\pulp\\pulp.py:1650: UserWarning: Overwriting previously set objective.\n",
      "  warnings.warn(\"Overwriting previously set objective.\")\n"
     ]
    },
    {
     "data": {
      "text/plain": [
       "Investment_Problem:\n",
       "MAXIMIZE\n",
       "0.1*X_Bonds + 0.095*X_Car_loans + 0.085*X_Mortgages + 0.125*X_Personal_loans + 0.0\n",
       "VARIABLES\n",
       "X_Bonds Continuous\n",
       "X_Car_loans Continuous\n",
       "X_Mortgages Continuous\n",
       "X_Personal_loans Continuous"
      ]
     },
     "execution_count": 10,
     "metadata": {},
     "output_type": "execute_result"
    }
   ],
   "source": [
    "investmentProblem += p.lpSum(rate_return[i]*amount_vars[i] for i in investments)\n",
    "investmentProblem"
   ]
  },
  {
   "cell_type": "markdown",
   "metadata": {},
   "source": [
    "Define the Constraints"
   ]
  },
  {
   "cell_type": "code",
   "execution_count": 11,
   "metadata": {},
   "outputs": [],
   "source": [
    "# 1. Total amount constraint: Total investment <= 650,000\n",
    "investmentProblem += p.lpSum(amount_vars[i] for i in investments) <= total_amount, \"Total_Investment\"\n",
    "\n",
    "# 2. Personal loan constraint: Personal loans <= 162,500\n",
    "investmentProblem += amount_vars['Personal loans'] <= 0.25 * total_amount, \"Personal_Loan_Limit\"\n",
    "\n",
    "# 3. Mortgages must be greater than personal loans\n",
    "investmentProblem += amount_vars['Mortgages'] >= amount_vars['Personal loans'], \"Mortgage_Constraint\"\n",
    "\n",
    "# 4. Bonds must be greater than personal loans\n",
    "investmentProblem += amount_vars['Bonds'] >= amount_vars['Personal loans'], \"Bond_Constraint\""
   ]
  },
  {
   "cell_type": "code",
   "execution_count": 12,
   "metadata": {},
   "outputs": [
    {
     "data": {
      "text/plain": [
       "Investment_Problem:\n",
       "MAXIMIZE\n",
       "0.1*X_Bonds + 0.095*X_Car_loans + 0.085*X_Mortgages + 0.125*X_Personal_loans + 0.0\n",
       "SUBJECT TO\n",
       "Total_Investment: X_Bonds + X_Car_loans + X_Mortgages + X_Personal_loans\n",
       " <= 650000\n",
       "\n",
       "Personal_Loan_Limit: X_Personal_loans <= 162500\n",
       "\n",
       "Mortgage_Constraint: X_Mortgages - X_Personal_loans >= 0\n",
       "\n",
       "Bond_Constraint: X_Bonds - X_Personal_loans >= 0\n",
       "\n",
       "VARIABLES\n",
       "X_Bonds Continuous\n",
       "X_Car_loans Continuous\n",
       "X_Mortgages Continuous\n",
       "X_Personal_loans Continuous"
      ]
     },
     "execution_count": 12,
     "metadata": {},
     "output_type": "execute_result"
    }
   ],
   "source": [
    "investmentProblem"
   ]
  },
  {
   "cell_type": "markdown",
   "metadata": {},
   "source": [
    "Solve and print the status"
   ]
  },
  {
   "cell_type": "code",
   "execution_count": 13,
   "metadata": {},
   "outputs": [
    {
     "name": "stdout",
     "output_type": "stream",
     "text": [
      "Status: Optimal\n"
     ]
    }
   ],
   "source": [
    "status = investmentProblem.solve()\n",
    "print(\"Status:\", p.LpStatus[status])"
   ]
  },
  {
   "cell_type": "markdown",
   "metadata": {},
   "source": [
    "Print the value of the objective function"
   ]
  },
  {
   "cell_type": "code",
   "execution_count": 14,
   "metadata": {},
   "outputs": [
    {
     "name": "stdout",
     "output_type": "stream",
     "text": [
      "Total Return = $ 66625.0\n"
     ]
    }
   ],
   "source": [
    "print(\"Total Return = $\", p.value(investmentProblem.objective))"
   ]
  },
  {
   "cell_type": "markdown",
   "metadata": {},
   "source": [
    "Print the values of the decision variables"
   ]
  },
  {
   "cell_type": "code",
   "execution_count": 15,
   "metadata": {},
   "outputs": [
    {
     "name": "stdout",
     "output_type": "stream",
     "text": [
      "Bonds = $ 325000.0\n",
      "Mortgages = $ 162500.0\n",
      "Car loans = $ 0.0\n",
      "Personal loans = $ 162500.0\n"
     ]
    }
   ],
   "source": [
    "for variable in amount_vars:\n",
    "    print(f\"{variable} = $\", amount_vars[variable].varValue)"
   ]
  }
 ],
 "metadata": {
  "kernelspec": {
   "display_name": ".venv",
   "language": "python",
   "name": "python3"
  },
  "language_info": {
   "codemirror_mode": {
    "name": "ipython",
    "version": 3
   },
   "file_extension": ".py",
   "mimetype": "text/x-python",
   "name": "python",
   "nbconvert_exporter": "python",
   "pygments_lexer": "ipython3",
   "version": "3.12.5"
  }
 },
 "nbformat": 4,
 "nbformat_minor": 2
}
