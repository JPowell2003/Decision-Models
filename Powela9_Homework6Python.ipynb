{
 "cells": [
  {
   "cell_type": "markdown",
   "metadata": {},
   "source": [
    "**Rent-a-Dent Question**"
   ]
  },
  {
   "cell_type": "markdown",
   "metadata": {},
   "source": [
    "Install Optimization Package"
   ]
  },
  {
   "cell_type": "code",
   "execution_count": 3,
   "metadata": {},
   "outputs": [
    {
     "name": "stdout",
     "output_type": "stream",
     "text": [
      "Requirement already satisfied: PulP in c:\\users\\alipo\\onedrive\\desktop\\jupyter in vs code\\.venv\\lib\\site-packages (2.9.0)Note: you may need to restart the kernel to use updated packages.\n",
      "\n"
     ]
    }
   ],
   "source": [
    "pip install PulP"
   ]
  },
  {
   "cell_type": "code",
   "execution_count": 4,
   "metadata": {},
   "outputs": [],
   "source": [
    "import pulp as p"
   ]
  },
  {
   "cell_type": "markdown",
   "metadata": {},
   "source": [
    "Define Input Parameters"
   ]
  },
  {
   "cell_type": "code",
   "execution_count": 22,
   "metadata": {},
   "outputs": [],
   "source": [
    "# create a list for the locations the cars ship from\n",
    "Locations_From = [ 'Location1', 'Location2' ]\n",
    "\n",
    "# create a list for the locations the cars ship to\n",
    "Locations_To = [ 'Location3', 'Location4', 'Location5', 'Location6']\n",
    "\n",
    "# Create a dictionary for the number of cars location1 and location2 have\n",
    "Supply = {'Location1': 16,'Location2': 18}\n",
    "\n",
    "# Create a dictionary for the number of cars location 3-6 need\n",
    "Min_Capacity = { 'Location3': 5, 'Location4': 5, 'Location5': 5, 'Location6': 5 }\n",
    "Max_Capacity = { 'Location3': 10, 'Location4': 10, 'Location5': 10, 'Location6': 10 }\n",
    "\n",
    "# Create a nested dictionary for the cost\n",
    "Cost = {'Location1':  {'Location3':54,'Location4':17,'Location5':23, 'Location6':30},\n",
    "            'Location2':  {'Location3':24,'Location4':18,'Location5':19, 'Location6':31}}"
   ]
  },
  {
   "cell_type": "markdown",
   "metadata": {},
   "source": [
    "Define the Decision Variables"
   ]
  },
  {
   "cell_type": "code",
   "execution_count": 23,
   "metadata": {},
   "outputs": [],
   "source": [
    "Amount_variables = p.LpVariable.dicts(\"X\", (Locations_From, Locations_To), lowBound=0, upBound=None, cat=p.LpContinuous)"
   ]
  },
  {
   "cell_type": "markdown",
   "metadata": {},
   "source": [
    "Define the Problem"
   ]
  },
  {
   "cell_type": "code",
   "execution_count": 24,
   "metadata": {},
   "outputs": [],
   "source": [
    "transportation_problem = p.LpProblem(\"Car_Transportation_Problem\", p.LpMinimize)"
   ]
  },
  {
   "cell_type": "markdown",
   "metadata": {},
   "source": [
    "Define the Objective Function"
   ]
  },
  {
   "cell_type": "code",
   "execution_count": 25,
   "metadata": {},
   "outputs": [],
   "source": [
    "transportation_problem += p.lpSum(Amount_variables[i][j] * Cost[i][j]  for i in Locations_From for j in Locations_To)"
   ]
  },
  {
   "cell_type": "markdown",
   "metadata": {},
   "source": [
    "Define the Constraints"
   ]
  },
  {
   "cell_type": "code",
   "execution_count": 26,
   "metadata": {},
   "outputs": [],
   "source": [
    "# Supply constraints: Cars shipped from each supply location should not exceed available supply\n",
    "for i in Locations_From:\n",
    "    transportation_problem += p.lpSum(Amount_variables[i][j] for j in Locations_To) <= Supply[i]\n",
    "\n",
    "# Demand constraints (min): Each demand location must receive at least the minimum capacity (5 cars)\n",
    "for j in Locations_To:\n",
    "    transportation_problem += p.lpSum(Amount_variables[i][j] for i in Locations_From) >= Min_Capacity[j]\n",
    "\n",
    "# Demand constraints (max): Each demand location can receive at most the maximum capacity (10 cars)\n",
    "for j in Locations_To:\n",
    "    transportation_problem += p.lpSum(Amount_variables[i][j] for i in Locations_From) <= Max_Capacity[j]\n",
    "\n",
    "# Total supply constraint: The total number of cars shipped must equal the total available supply (34 cars)\n",
    "total_supply = sum(Supply.values())\n",
    "transportation_problem += p.lpSum(Amount_variables[i][j] for i in Locations_From for j in Locations_To) == total_supply"
   ]
  },
  {
   "cell_type": "markdown",
   "metadata": {},
   "source": [
    "Solve the problem"
   ]
  },
  {
   "cell_type": "code",
   "execution_count": 27,
   "metadata": {},
   "outputs": [
    {
     "name": "stdout",
     "output_type": "stream",
     "text": [
      "Status: Optimal\n"
     ]
    }
   ],
   "source": [
    "status = transportation_problem.solve()\n",
    "print(f\"Status: {p.LpStatus[status]}\")\n"
   ]
  },
  {
   "cell_type": "markdown",
   "metadata": {},
   "source": [
    "Print the objective function value"
   ]
  },
  {
   "cell_type": "code",
   "execution_count": 28,
   "metadata": {},
   "outputs": [
    {
     "name": "stdout",
     "output_type": "stream",
     "text": [
      "Total Transportation Cost =  730.0\n"
     ]
    }
   ],
   "source": [
    "print(\"Total Transportation Cost = \", p.value(transportation_problem.objective))"
   ]
  },
  {
   "cell_type": "markdown",
   "metadata": {},
   "source": [
    "Print the value of the decision variables"
   ]
  },
  {
   "cell_type": "code",
   "execution_count": 31,
   "metadata": {},
   "outputs": [
    {
     "name": "stdout",
     "output_type": "stream",
     "text": [
      "Cars from Location1 to Location3 = 0.0\n",
      "Cars from Location1 to Location4 = 10.0\n",
      "Cars from Location1 to Location5 = 1.0\n",
      "Cars from Location1 to Location6 = 5.0\n",
      "Cars from Location2 to Location3 = 9.0\n",
      "Cars from Location2 to Location4 = 0.0\n",
      "Cars from Location2 to Location5 = 9.0\n",
      "Cars from Location2 to Location6 = 0.0\n"
     ]
    }
   ],
   "source": [
    "for i in Locations_From:\n",
    "    for j in Locations_To:\n",
    "        print(f\"Cars from {i} to {j} = {Amount_variables[i][j].varValue}\")"
   ]
  }
 ],
 "metadata": {
  "kernelspec": {
   "display_name": ".venv",
   "language": "python",
   "name": "python3"
  },
  "language_info": {
   "codemirror_mode": {
    "name": "ipython",
    "version": 3
   },
   "file_extension": ".py",
   "mimetype": "text/x-python",
   "name": "python",
   "nbconvert_exporter": "python",
   "pygments_lexer": "ipython3",
   "version": "3.12.5"
  }
 },
 "nbformat": 4,
 "nbformat_minor": 2
}
