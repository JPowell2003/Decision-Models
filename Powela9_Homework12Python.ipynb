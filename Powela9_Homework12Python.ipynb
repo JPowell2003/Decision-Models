{
 "cells": [
  {
   "cell_type": "markdown",
   "metadata": {},
   "source": [
    "# Import Optimization Package"
   ]
  },
  {
   "cell_type": "code",
   "execution_count": 2,
   "metadata": {},
   "outputs": [],
   "source": [
    "import pulp as p\n",
    "import pulp as lpSum"
   ]
  },
  {
   "cell_type": "markdown",
   "metadata": {},
   "source": [
    "# Define Input Parameters"
   ]
  },
  {
   "cell_type": "code",
   "execution_count": 3,
   "metadata": {},
   "outputs": [],
   "source": [
    "# Create a list of activities\n",
    "Activities = ['A', 'B', 'C', 'D', 'E', 'F', 'G', 'H']\n",
    "\n",
    "# Create a dictionary for the required time at each node\n",
    "Required_Time = {'A': 5,\n",
    "                 'B': 4,\n",
    "                 'C': 5,\n",
    "                 'D': 8,\n",
    "                 'E': 9,\n",
    "                 'F': 6,\n",
    "                 'G': 8,\n",
    "                 'H': 3\n",
    "                }\n",
    "\n",
    "Avail_Crash_Days = {'A': 4,\n",
    "                    'B': 3,\n",
    "                    'C': 3,\n",
    "                    'D': 6,\n",
    "                    'E': 7,\n",
    "                    'F': 5,\n",
    "                    'G': 4,\n",
    "                    'H': 0,\n",
    "                }\n",
    "\n",
    "# Create a list for the arcs\n",
    "Arcs = [ ('A', 'B'),\n",
    "         ('B', 'C'),\n",
    "         ('B', 'D'),\n",
    "         ('C', 'E'),\n",
    "         ('C', 'F'),\n",
    "         ('D', 'F'),\n",
    "         ('D', 'G'),\n",
    "         ('E', 'H'),\n",
    "         ('F', 'H'),\n",
    "         ('G', 'H')\n",
    "         ]\n",
    "\n",
    "Crash_cost = {'A': 950,\n",
    "              'B': 250,\n",
    "              'C': 500,\n",
    "              'D': 1250,\n",
    "              'E': 400,\n",
    "              'F': 400,\n",
    "              'G': 600,\n",
    "              'H': 500\n",
    "             }"
   ]
  },
  {
   "cell_type": "markdown",
   "metadata": {},
   "source": [
    "# Define Decision Variables"
   ]
  },
  {
   "cell_type": "code",
   "execution_count": 4,
   "metadata": {},
   "outputs": [],
   "source": [
    "Start_Time = p.LpVariable.dicts(\"Start_Time\", Activities, lowBound = 0, upBound = None, cat = p.LpContinuous)\n",
    "Crash_Time = p.LpVariable.dicts(\"Crash_Time\", Activities, lowBound = 0, upBound = None, cat = p.LpContinuous)"
   ]
  },
  {
   "cell_type": "markdown",
   "metadata": {},
   "source": [
    "# Create a variable that will contain the problem data"
   ]
  },
  {
   "cell_type": "code",
   "execution_count": 6,
   "metadata": {},
   "outputs": [],
   "source": [
    "proj_chs = p.LpProblem(\"Project_Crashing\", p.LpMinimize)"
   ]
  },
  {
   "cell_type": "markdown",
   "metadata": {},
   "source": [
    "# Define the Objective Function"
   ]
  },
  {
   "cell_type": "code",
   "execution_count": 7,
   "metadata": {},
   "outputs": [],
   "source": [
    "proj_chs += p.lpSum(Crash_Time[i] * Crash_cost[i] for i in Activities)"
   ]
  },
  {
   "cell_type": "markdown",
   "metadata": {},
   "source": [
    "# Define the Constraints"
   ]
  },
  {
   "cell_type": "code",
   "execution_count": 8,
   "metadata": {},
   "outputs": [],
   "source": [
    "for (x,y) in Arcs:\n",
    "    proj_chs += Start_Time[x] + Required_Time[x] - Crash_Time[x] <= Start_Time[y]\n",
    "\n",
    "for i in Activities:\n",
    "    proj_chs += Crash_Time[i] <= Avail_Crash_Days[i]\n",
    "\n",
    "proj_chs += Start_Time['H'] + Required_Time['H'] - Crash_Time['H'] <= 25"
   ]
  },
  {
   "cell_type": "code",
   "execution_count": 9,
   "metadata": {},
   "outputs": [
    {
     "data": {
      "text/plain": [
       "Project_Crashing:\n",
       "MINIMIZE\n",
       "950*Crash_Time_A + 250*Crash_Time_B + 500*Crash_Time_C + 1250*Crash_Time_D + 400*Crash_Time_E + 400*Crash_Time_F + 600*Crash_Time_G + 500*Crash_Time_H + 0\n",
       "SUBJECT TO\n",
       "_C1: - Crash_Time_A + Start_Time_A - Start_Time_B <= -5\n",
       "\n",
       "_C2: - Crash_Time_B + Start_Time_B - Start_Time_C <= -4\n",
       "\n",
       "_C3: - Crash_Time_B + Start_Time_B - Start_Time_D <= -4\n",
       "\n",
       "_C4: - Crash_Time_C + Start_Time_C - Start_Time_E <= -5\n",
       "\n",
       "_C5: - Crash_Time_C + Start_Time_C - Start_Time_F <= -5\n",
       "\n",
       "_C6: - Crash_Time_D + Start_Time_D - Start_Time_F <= -8\n",
       "\n",
       "_C7: - Crash_Time_D + Start_Time_D - Start_Time_G <= -8\n",
       "\n",
       "_C8: - Crash_Time_E + Start_Time_E - Start_Time_H <= -9\n",
       "\n",
       "_C9: - Crash_Time_F + Start_Time_F - Start_Time_H <= -6\n",
       "\n",
       "_C10: - Crash_Time_G + Start_Time_G - Start_Time_H <= -8\n",
       "\n",
       "_C11: Crash_Time_A <= 4\n",
       "\n",
       "_C12: Crash_Time_B <= 3\n",
       "\n",
       "_C13: Crash_Time_C <= 3\n",
       "\n",
       "_C14: Crash_Time_D <= 6\n",
       "\n",
       "_C15: Crash_Time_E <= 7\n",
       "\n",
       "_C16: Crash_Time_F <= 5\n",
       "\n",
       "_C17: Crash_Time_G <= 4\n",
       "\n",
       "_C18: Crash_Time_H <= 0\n",
       "\n",
       "_C19: - Crash_Time_H + Start_Time_H <= 22\n",
       "\n",
       "VARIABLES\n",
       "Crash_Time_A Continuous\n",
       "Crash_Time_B Continuous\n",
       "Crash_Time_C Continuous\n",
       "Crash_Time_D Continuous\n",
       "Crash_Time_E Continuous\n",
       "Crash_Time_F Continuous\n",
       "Crash_Time_G Continuous\n",
       "Crash_Time_H Continuous\n",
       "Start_Time_A Continuous\n",
       "Start_Time_B Continuous\n",
       "Start_Time_C Continuous\n",
       "Start_Time_D Continuous\n",
       "Start_Time_E Continuous\n",
       "Start_Time_F Continuous\n",
       "Start_Time_G Continuous\n",
       "Start_Time_H Continuous"
      ]
     },
     "execution_count": 9,
     "metadata": {},
     "output_type": "execute_result"
    }
   ],
   "source": [
    "proj_chs"
   ]
  },
  {
   "cell_type": "markdown",
   "metadata": {},
   "source": [
    "# Solve and print status"
   ]
  },
  {
   "cell_type": "code",
   "execution_count": 10,
   "metadata": {},
   "outputs": [
    {
     "name": "stdout",
     "output_type": "stream",
     "text": [
      "Optimal\n"
     ]
    }
   ],
   "source": [
    "status = proj_chs.solve()\n",
    "print(p.LpStatus[status])"
   ]
  },
  {
   "cell_type": "markdown",
   "metadata": {},
   "source": [
    "# Print the objective function value"
   ]
  },
  {
   "cell_type": "code",
   "execution_count": 11,
   "metadata": {},
   "outputs": [
    {
     "name": "stdout",
     "output_type": "stream",
     "text": [
      "Finish Time = 750.0\n"
     ]
    }
   ],
   "source": [
    "print(\"Finish Time =\", p.value(proj_chs.objective))"
   ]
  },
  {
   "cell_type": "markdown",
   "metadata": {},
   "source": [
    "# Print the values of the decision variables"
   ]
  },
  {
   "cell_type": "code",
   "execution_count": 12,
   "metadata": {},
   "outputs": [
    {
     "name": "stdout",
     "output_type": "stream",
     "text": [
      "Crash_Time_A = 0.0\n",
      "Crash_Time_B = 3.0\n",
      "Crash_Time_C = 0.0\n",
      "Crash_Time_D = 0.0\n",
      "Crash_Time_E = 0.0\n",
      "Crash_Time_F = 0.0\n",
      "Crash_Time_G = 0.0\n",
      "Crash_Time_H = 0.0\n",
      "Start_Time_A = 0.0\n",
      "Start_Time_B = 5.0\n",
      "Start_Time_C = 6.0\n",
      "Start_Time_D = 6.0\n",
      "Start_Time_E = 13.0\n",
      "Start_Time_F = 16.0\n",
      "Start_Time_G = 14.0\n",
      "Start_Time_H = 22.0\n"
     ]
    }
   ],
   "source": [
    "for vr in proj_chs.variables():\n",
    "  print(vr.name, \"=\", vr.varValue)"
   ]
  }
 ],
 "metadata": {
  "kernelspec": {
   "display_name": ".venv",
   "language": "python",
   "name": "python3"
  },
  "language_info": {
   "codemirror_mode": {
    "name": "ipython",
    "version": 3
   },
   "file_extension": ".py",
   "mimetype": "text/x-python",
   "name": "python",
   "nbconvert_exporter": "python",
   "pygments_lexer": "ipython3",
   "version": "3.12.5"
  }
 },
 "nbformat": 4,
 "nbformat_minor": 2
}
