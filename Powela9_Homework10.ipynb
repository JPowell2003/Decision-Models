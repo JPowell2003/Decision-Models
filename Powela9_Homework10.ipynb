{
 "cells": [
  {
   "cell_type": "markdown",
   "metadata": {},
   "source": [
    "# Furniture Supply Store Transshipment Problem"
   ]
  },
  {
   "cell_type": "markdown",
   "metadata": {},
   "source": [
    "Prerequisites"
   ]
  },
  {
   "cell_type": "code",
   "execution_count": 1,
   "metadata": {},
   "outputs": [],
   "source": [
    "from pulp import *\n",
    "import pulp as p"
   ]
  },
  {
   "cell_type": "markdown",
   "metadata": {},
   "source": [
    "Step 1: Define input parameters using lists/dictionaries"
   ]
  },
  {
   "cell_type": "code",
   "execution_count": 2,
   "metadata": {},
   "outputs": [],
   "source": [
    "# Nodes in the problem\n",
    "Nodes = ['Node1', 'Node2', 'Node3', 'Node4', 'Node5', 'Node6']\n",
    "\n",
    "# Supply and Demand values for each node\n",
    "SupplyDemand = {\n",
    "    'Node1': -30,  # Supply\n",
    "    'Node2': -40,  # Supply\n",
    "    'Node3': -20,  # Supply\n",
    "    'Node4': 10,   # Demand\n",
    "    'Node5': 30,   # Demand\n",
    "    'Node6': 40    # Demand\n",
    "}\n",
    "\n",
    "# Define the arcs and corresponding shipping costs\n",
    "Arcs = [\n",
    "    ('Node1', 'Node3'), ('Node1', 'Node4'),\n",
    "    ('Node2', 'Node4'), ('Node2', 'Node5'),\n",
    "    ('Node3', 'Node4'), ('Node3', 'Node6'),\n",
    "    ('Node4', 'Node6'), ('Node5', 'Node4'),\n",
    "    ('Node5', 'Node6')\n",
    "]\n",
    "\n",
    "# Shipping costs on each arc\n",
    "Cost = {\n",
    "    ('Node1', 'Node3'): 20,\n",
    "    ('Node1', 'Node4'): 30,\n",
    "    ('Node2', 'Node4'): 10,\n",
    "    ('Node2', 'Node5'): 20,\n",
    "    ('Node3', 'Node4'): 20,\n",
    "    ('Node3', 'Node6'): 40,\n",
    "    ('Node4', 'Node6'): 30,\n",
    "    ('Node5', 'Node4'): 50,\n",
    "    ('Node5', 'Node6'): 30\n",
    "}"
   ]
  },
  {
   "cell_type": "markdown",
   "metadata": {},
   "source": [
    "Step 2: Define decision variables"
   ]
  },
  {
   "cell_type": "code",
   "execution_count": 3,
   "metadata": {},
   "outputs": [],
   "source": [
    "Flows = p.LpVariable.dicts(\"X\", Arcs, lowBound=0, upBound=None, cat=LpContinuous)"
   ]
  },
  {
   "cell_type": "code",
   "execution_count": 4,
   "metadata": {},
   "outputs": [
    {
     "data": {
      "text/plain": [
       "{('Node1', 'Node3'): X_('Node1',_'Node3'),\n",
       " ('Node1', 'Node4'): X_('Node1',_'Node4'),\n",
       " ('Node2', 'Node4'): X_('Node2',_'Node4'),\n",
       " ('Node2', 'Node5'): X_('Node2',_'Node5'),\n",
       " ('Node3', 'Node4'): X_('Node3',_'Node4'),\n",
       " ('Node3', 'Node6'): X_('Node3',_'Node6'),\n",
       " ('Node4', 'Node6'): X_('Node4',_'Node6'),\n",
       " ('Node5', 'Node4'): X_('Node5',_'Node4'),\n",
       " ('Node5', 'Node6'): X_('Node5',_'Node6')}"
      ]
     },
     "execution_count": 4,
     "metadata": {},
     "output_type": "execute_result"
    }
   ],
   "source": [
    "Flows"
   ]
  },
  {
   "cell_type": "markdown",
   "metadata": {},
   "source": [
    "Step 3: Create a variable to hold the problem data"
   ]
  },
  {
   "cell_type": "code",
   "execution_count": 5,
   "metadata": {},
   "outputs": [],
   "source": [
    "Transshipment = p.LpProblem(\"Furniture_Transshipment\", p.LpMinimize)"
   ]
  },
  {
   "cell_type": "markdown",
   "metadata": {},
   "source": [
    "Step 4: Define the objective function"
   ]
  },
  {
   "cell_type": "code",
   "execution_count": 6,
   "metadata": {},
   "outputs": [],
   "source": [
    "Transshipment += lpSum(Flows[i] * Cost[i] for i in Arcs), \"Total_Transportation_Cost\""
   ]
  },
  {
   "cell_type": "code",
   "execution_count": 7,
   "metadata": {},
   "outputs": [
    {
     "data": {
      "text/plain": [
       "Furniture_Transshipment:\n",
       "MINIMIZE\n",
       "20*X_('Node1',_'Node3') + 30*X_('Node1',_'Node4') + 10*X_('Node2',_'Node4') + 20*X_('Node2',_'Node5') + 20*X_('Node3',_'Node4') + 40*X_('Node3',_'Node6') + 30*X_('Node4',_'Node6') + 50*X_('Node5',_'Node4') + 30*X_('Node5',_'Node6') + 0\n",
       "VARIABLES\n",
       "X_('Node1',_'Node3') Continuous\n",
       "X_('Node1',_'Node4') Continuous\n",
       "X_('Node2',_'Node4') Continuous\n",
       "X_('Node2',_'Node5') Continuous\n",
       "X_('Node3',_'Node4') Continuous\n",
       "X_('Node3',_'Node6') Continuous\n",
       "X_('Node4',_'Node6') Continuous\n",
       "X_('Node5',_'Node4') Continuous\n",
       "X_('Node5',_'Node6') Continuous"
      ]
     },
     "execution_count": 7,
     "metadata": {},
     "output_type": "execute_result"
    }
   ],
   "source": [
    "Transshipment"
   ]
  },
  {
   "cell_type": "markdown",
   "metadata": {},
   "source": [
    "Step 5: Define the constraints"
   ]
  },
  {
   "cell_type": "code",
   "execution_count": 8,
   "metadata": {},
   "outputs": [],
   "source": [
    "for n in Nodes:\n",
    "    if n in SupplyDemand:\n",
    "        Transshipment += (\n",
    "            lpSum(Flows[(o, d)] for (o, d) in Arcs if n == d) -\n",
    "            lpSum(Flows[(o, d)] for (o, d) in Arcs if n == o)\n",
    "            >= SupplyDemand[n], f\"Flow_Balance_{n}\"\n",
    "        )"
   ]
  },
  {
   "cell_type": "code",
   "execution_count": 9,
   "metadata": {},
   "outputs": [
    {
     "data": {
      "text/plain": [
       "Furniture_Transshipment:\n",
       "MINIMIZE\n",
       "20*X_('Node1',_'Node3') + 30*X_('Node1',_'Node4') + 10*X_('Node2',_'Node4') + 20*X_('Node2',_'Node5') + 20*X_('Node3',_'Node4') + 40*X_('Node3',_'Node6') + 30*X_('Node4',_'Node6') + 50*X_('Node5',_'Node4') + 30*X_('Node5',_'Node6') + 0\n",
       "SUBJECT TO\n",
       "Flow_Balance_Node1: - X_('Node1',_'Node3') - X_('Node1',_'Node4') >= -30\n",
       "\n",
       "Flow_Balance_Node2: - X_('Node2',_'Node4') - X_('Node2',_'Node5') >= -40\n",
       "\n",
       "Flow_Balance_Node3: X_('Node1',_'Node3') - X_('Node3',_'Node4')\n",
       " - X_('Node3',_'Node6') >= -20\n",
       "\n",
       "Flow_Balance_Node4: X_('Node1',_'Node4') + X_('Node2',_'Node4')\n",
       " + X_('Node3',_'Node4') - X_('Node4',_'Node6') + X_('Node5',_'Node4') >= 10\n",
       "\n",
       "Flow_Balance_Node5: X_('Node2',_'Node5') - X_('Node5',_'Node4')\n",
       " - X_('Node5',_'Node6') >= 30\n",
       "\n",
       "Flow_Balance_Node6: X_('Node3',_'Node6') + X_('Node4',_'Node6')\n",
       " + X_('Node5',_'Node6') >= 40\n",
       "\n",
       "VARIABLES\n",
       "X_('Node1',_'Node3') Continuous\n",
       "X_('Node1',_'Node4') Continuous\n",
       "X_('Node2',_'Node4') Continuous\n",
       "X_('Node2',_'Node5') Continuous\n",
       "X_('Node3',_'Node4') Continuous\n",
       "X_('Node3',_'Node6') Continuous\n",
       "X_('Node4',_'Node6') Continuous\n",
       "X_('Node5',_'Node4') Continuous\n",
       "X_('Node5',_'Node6') Continuous"
      ]
     },
     "execution_count": 9,
     "metadata": {},
     "output_type": "execute_result"
    }
   ],
   "source": [
    "Transshipment"
   ]
  },
  {
   "cell_type": "markdown",
   "metadata": {},
   "source": [
    "Step 6: Solve and Print Status"
   ]
  },
  {
   "cell_type": "code",
   "execution_count": 10,
   "metadata": {},
   "outputs": [
    {
     "name": "stdout",
     "output_type": "stream",
     "text": [
      "Status: Optimal\n"
     ]
    }
   ],
   "source": [
    "status = Transshipment.solve()\n",
    "print(\"Status:\", p.LpStatus[status])"
   ]
  },
  {
   "cell_type": "markdown",
   "metadata": {},
   "source": [
    "Step 7: Print the value of the objective function"
   ]
  },
  {
   "cell_type": "code",
   "execution_count": 11,
   "metadata": {},
   "outputs": [
    {
     "name": "stdout",
     "output_type": "stream",
     "text": [
      "Total Transportation Cost = $ 2700.0\n"
     ]
    }
   ],
   "source": [
    "print(\"Total Transportation Cost = $\", p.value(Transshipment.objective))"
   ]
  },
  {
   "cell_type": "markdown",
   "metadata": {},
   "source": [
    "Step 8: Print the value of the decision variables"
   ]
  },
  {
   "cell_type": "code",
   "execution_count": 12,
   "metadata": {},
   "outputs": [
    {
     "name": "stdout",
     "output_type": "stream",
     "text": [
      "X_('Node1',_'Node3') = 20.0\n",
      "X_('Node1',_'Node4') = 0.0\n",
      "X_('Node2',_'Node4') = 10.0\n",
      "X_('Node2',_'Node5') = 30.0\n",
      "X_('Node3',_'Node4') = 0.0\n",
      "X_('Node3',_'Node6') = 40.0\n",
      "X_('Node4',_'Node6') = 0.0\n",
      "X_('Node5',_'Node4') = 0.0\n",
      "X_('Node5',_'Node6') = 0.0\n"
     ]
    }
   ],
   "source": [
    "for var in Transshipment.variables():\n",
    "    print(f\"{var.name} = {var.varValue}\")"
   ]
  }
 ],
 "metadata": {
  "kernelspec": {
   "display_name": ".venv",
   "language": "python",
   "name": "python3"
  },
  "language_info": {
   "codemirror_mode": {
    "name": "ipython",
    "version": 3
   },
   "file_extension": ".py",
   "mimetype": "text/x-python",
   "name": "python",
   "nbconvert_exporter": "python",
   "pygments_lexer": "ipython3",
   "version": "3.12.5"
  }
 },
 "nbformat": 4,
 "nbformat_minor": 2
}
