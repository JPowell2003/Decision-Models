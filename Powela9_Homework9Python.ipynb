{
 "cells": [
  {
   "cell_type": "markdown",
   "metadata": {},
   "source": [
    "## Blue Ridge Hot Tubs Fixed Charge Problem"
   ]
  },
  {
   "cell_type": "markdown",
   "metadata": {},
   "source": [
    "Prerequisites: "
   ]
  },
  {
   "cell_type": "code",
   "execution_count": 1,
   "metadata": {},
   "outputs": [
    {
     "name": "stdout",
     "output_type": "stream",
     "text": [
      "Requirement already satisfied: pulp in c:\\users\\alipo\\onedrive\\desktop\\jupyter in vs code\\.venv\\lib\\site-packages (2.9.0)\n"
     ]
    }
   ],
   "source": [
    "!pip install pulp\n",
    "from pulp import *\n",
    "import pulp as p"
   ]
  },
  {
   "cell_type": "markdown",
   "metadata": {},
   "source": [
    "Step 1: Define input parameters"
   ]
  },
  {
   "cell_type": "code",
   "execution_count": 2,
   "metadata": {},
   "outputs": [],
   "source": [
    "Products = ['Aqua_Spa', 'Hydro_Lux']\n",
    "\n",
    "Resources = ['Pumps', 'Labor', 'Tubing']\n",
    "\n",
    "Available_resources = {'Pumps': 200, 'Labor': 1566, 'Tubing': 2880}\n",
    "\n",
    "Unit_profit = {'Aqua_Spa': 350, 'Hydro_Lux': 300}\n",
    "\n",
    "Fixed_cost = {'Aqua_Spa': 900, 'Hydro_Lux': 800}\n",
    "\n",
    "Shared_cost = 1000\n",
    "\n",
    "Upper_bound = {'Aqua_Spa': 240, 'Hydro_Lux': 261}\n",
    "\n",
    "Resource_usage = {\n",
    "    'Aqua_Spa': {'Pumps': 1, 'Labor': 9, 'Tubing': 12},\n",
    "    'Hydro_Lux': {'Pumps': 1, 'Labor': 6, 'Tubing': 16}\n",
    "}"
   ]
  },
  {
   "cell_type": "markdown",
   "metadata": {},
   "source": [
    "Step 2: Define Decision Variables"
   ]
  },
  {
   "cell_type": "code",
   "execution_count": 3,
   "metadata": {},
   "outputs": [],
   "source": [
    "Units_vars = p.LpVariable.dicts(\"X\", Products, lowBound=0, upBound=None, cat=LpInteger)\n",
    "Bi_vars = p.LpVariable.dicts(\"Y\", Products, lowBound=0, upBound=1, cat=LpBinary)\n",
    "Shared_var = p.LpVariable(\"Z\", lowBound=0, upBound=1, cat=LpBinary)\n"
   ]
  },
  {
   "cell_type": "markdown",
   "metadata": {},
   "source": [
    "Step 3: Create a variable to contain the problem data"
   ]
  },
  {
   "cell_type": "code",
   "execution_count": 4,
   "metadata": {},
   "outputs": [],
   "source": [
    "BlueRidge_Problem = p.LpProblem(\"Blue_Ridge_Hot_Tubs\", p.LpMaximize)"
   ]
  },
  {
   "cell_type": "markdown",
   "metadata": {},
   "source": [
    "Step 4: Define the objective"
   ]
  },
  {
   "cell_type": "code",
   "execution_count": 5,
   "metadata": {},
   "outputs": [],
   "source": [
    "BlueRidge_Problem += (\n",
    "    lpSum(Units_vars[i] * Unit_profit[i] for i in Products)\n",
    "    - lpSum(Bi_vars[i] * Fixed_cost[i] for i in Products)\n",
    "    - Shared_var * Shared_cost\n",
    ")"
   ]
  },
  {
   "cell_type": "markdown",
   "metadata": {},
   "source": [
    "Step 5: Define the constraints"
   ]
  },
  {
   "cell_type": "code",
   "execution_count": 6,
   "metadata": {},
   "outputs": [],
   "source": [
    "#Resource constraint\n",
    "for r in Resources:\n",
    "    BlueRidge_Problem += (\n",
    "        lpSum(Resource_usage[i][r] * Units_vars[i] for i in Products) <= Available_resources[r]\n",
    "    ), f\"{r}_Constraint\"\n",
    "    \n",
    "#Linking constraints\n",
    "for i in Products:\n",
    "    BlueRidge_Problem += Units_vars[i] <= Upper_bound[i] * Bi_vars[i], f\"{i}_Linking_Constraint\"\n",
    "\n",
    "#Shared equipment constraint\n",
    "BlueRidge_Problem += lpSum(Units_vars[i] for i in Products) <= 200 * Shared_var, \"Shared_Equipment_Constraint\"\n"
   ]
  },
  {
   "cell_type": "markdown",
   "metadata": {},
   "source": [
    "Step 6: Solve the problem and print status"
   ]
  },
  {
   "cell_type": "code",
   "execution_count": 7,
   "metadata": {},
   "outputs": [
    {
     "name": "stdout",
     "output_type": "stream",
     "text": [
      "Optimal\n"
     ]
    }
   ],
   "source": [
    "status = BlueRidge_Problem.solve()\n",
    "print(p.LpStatus[status])"
   ]
  },
  {
   "cell_type": "markdown",
   "metadata": {},
   "source": [
    "Step 7: Print the value of the objective function"
   ]
  },
  {
   "cell_type": "code",
   "execution_count": 8,
   "metadata": {},
   "outputs": [
    {
     "name": "stdout",
     "output_type": "stream",
     "text": [
      "Total profit = $ 63400.0\n"
     ]
    }
   ],
   "source": [
    "print(\"Total profit = $\", p.value(BlueRidge_Problem.objective))"
   ]
  },
  {
   "cell_type": "markdown",
   "metadata": {},
   "source": [
    "Step 8: Print the values of the decision variables"
   ]
  },
  {
   "cell_type": "code",
   "execution_count": 9,
   "metadata": {},
   "outputs": [
    {
     "name": "stdout",
     "output_type": "stream",
     "text": [
      "X_Aqua_Spa = 122.0\n",
      "X_Hydro_Lux = 78.0\n",
      "Y_Aqua_Spa = 1.0\n",
      "Y_Hydro_Lux = 1.0\n",
      "Z = 1.0\n"
     ]
    }
   ],
   "source": [
    "for v in BlueRidge_Problem.variables():\n",
    "    print(v.name, \"=\", v.varValue)"
   ]
  }
 ],
 "metadata": {
  "kernelspec": {
   "display_name": ".venv",
   "language": "python",
   "name": "python3"
  },
  "language_info": {
   "codemirror_mode": {
    "name": "ipython",
    "version": 3
   },
   "file_extension": ".py",
   "mimetype": "text/x-python",
   "name": "python",
   "nbconvert_exporter": "python",
   "pygments_lexer": "ipython3",
   "version": "3.12.5"
  }
 },
 "nbformat": 4,
 "nbformat_minor": 2
}
